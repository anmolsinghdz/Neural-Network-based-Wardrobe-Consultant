{
 "cells": [
  {
   "cell_type": "code",
   "execution_count": 2,
   "id": "0c359d4c",
   "metadata": {},
   "outputs": [],
   "source": [
    "import streamlit as st\n",
    "import os\n",
    "from PIL import Image\n",
    "import numpy as np\n",
    "import pickle\n",
    "import tensorflow\n",
    "from tensorflow.keras.preprocessing import image\n",
    "from tensorflow.keras.layers import GlobalMaxPooling2D\n",
    "from tensorflow.keras.applications.resnet50 import ResNet50,preprocess_input\n",
    "from sklearn.neighbors import NearestNeighbors\n",
    "from numpy.linalg import norm"
   ]
  },
  {
   "cell_type": "code",
   "execution_count": 3,
   "id": "f2c84650",
   "metadata": {},
   "outputs": [],
   "source": [
    "feature_list = np.array(pickle.load(open('embeddings.pkl','rb')))\n",
    "filenames = pickle.load(open('filenames.pkl','rb'))"
   ]
  },
  {
   "cell_type": "code",
   "execution_count": 4,
   "id": "c877679c",
   "metadata": {},
   "outputs": [],
   "source": [
    "model = ResNet50(weights='imagenet',include_top=False,input_shape=(224,224,3))\n",
    "model.trainable = False"
   ]
  },
  {
   "cell_type": "code",
   "execution_count": 5,
   "id": "a2a1fe38",
   "metadata": {},
   "outputs": [],
   "source": [
    "model = tensorflow.keras.Sequential([\n",
    "    model,\n",
    "    GlobalMaxPooling2D()\n",
    "])"
   ]
  },
  {
   "cell_type": "code",
   "execution_count": 6,
   "id": "8dde77fb",
   "metadata": {},
   "outputs": [
    {
     "name": "stderr",
     "output_type": "stream",
     "text": [
      "2023-10-13 20:34:17.040 \n",
      "  \u001b[33m\u001b[1mWarning:\u001b[0m to view this Streamlit app on a browser, run it with the following\n",
      "  command:\n",
      "\n",
      "    streamlit run C:\\Users\\anmol\\anaconda3\\envs\\test\\lib\\site-packages\\ipykernel_launcher.py [ARGUMENTS]\n"
     ]
    },
    {
     "data": {
      "text/plain": [
       "DeltaGenerator()"
      ]
     },
     "execution_count": 6,
     "metadata": {},
     "output_type": "execute_result"
    }
   ],
   "source": [
    "st.title('Fashion Recommender System')"
   ]
  },
  {
   "cell_type": "code",
   "execution_count": 7,
   "id": "15dcc48b",
   "metadata": {},
   "outputs": [],
   "source": [
    "def save_uploaded_file(uploaded_file):\n",
    "    try:\n",
    "        with open(os.path.join('uploads',uploaded_file.name),'wb') as f:\n",
    "            f.write(uploaded_file.getbuffer())\n",
    "        return 1\n",
    "    except:\n",
    "        return 0"
   ]
  },
  {
   "cell_type": "code",
   "execution_count": 8,
   "id": "7b9bd35f",
   "metadata": {},
   "outputs": [],
   "source": [
    "def feature_extraction(img_path,model):\n",
    "    img = image.load_img(img_path, target_size=(224, 224))\n",
    "    img_array = image.img_to_array(img)\n",
    "    expanded_img_array = np.expand_dims(img_array, axis=0)\n",
    "    preprocessed_img = preprocess_input(expanded_img_array)\n",
    "    result = model.predict(preprocessed_img).flatten()\n",
    "    normalized_result = result / norm(result)\n",
    "\n",
    "    return normalized_result"
   ]
  },
  {
   "cell_type": "code",
   "execution_count": 9,
   "id": "5728ef93",
   "metadata": {},
   "outputs": [],
   "source": [
    "def recommend(features,feature_list):\n",
    "    neighbors = NearestNeighbors(n_neighbors=6, algorithm='brute', metric='euclidean')\n",
    "    neighbors.fit(feature_list)\n",
    "\n",
    "    distances, indices = neighbors.kneighbors([features])\n",
    "\n",
    "    return indices"
   ]
  },
  {
   "cell_type": "code",
   "execution_count": 10,
   "id": "aac7e721",
   "metadata": {},
   "outputs": [],
   "source": [
    "# steps\n",
    "# file upload -> save\n",
    "uploaded_file = st.file_uploader(\"Choose an image\")\n",
    "if uploaded_file is not None:\n",
    "    if save_uploaded_file(uploaded_file):\n",
    "        # display the file\n",
    "        display_image = Image.open(uploaded_file)\n",
    "        st.image(display_image)\n",
    "        # feature extract\n",
    "        features = feature_extraction(os.path.join(\"uploads\",uploaded_file.name),model)\n",
    "        #st.text(features)\n",
    "        # recommendention\n",
    "        indices = recommend(features,feature_list)\n",
    "        # show\n",
    "        col1,col2,col3,col4,col5 = st.beta_columns(5)\n",
    "\n",
    "        with col1:\n",
    "            st.image(filenames[indices[0][0]])\n",
    "        with col2:\n",
    "            st.image(filenames[indices[0][1]])\n",
    "        with col3:\n",
    "            st.image(filenames[indices[0][2]])\n",
    "        with col4:\n",
    "            st.image(filenames[indices[0][3]])\n",
    "        with col5:\n",
    "            st.image(filenames[indices[0][4]])\n",
    "    else:\n",
    "        st.header(\"Some error occured in file upload\")"
   ]
  }
 ],
 "metadata": {
  "kernelspec": {
   "display_name": "Python 3 (ipykernel)",
   "language": "python",
   "name": "python3"
  },
  "language_info": {
   "codemirror_mode": {
    "name": "ipython",
    "version": 3
   },
   "file_extension": ".py",
   "mimetype": "text/x-python",
   "name": "python",
   "nbconvert_exporter": "python",
   "pygments_lexer": "ipython3",
   "version": "3.9.18"
  }
 },
 "nbformat": 4,
 "nbformat_minor": 5
}
